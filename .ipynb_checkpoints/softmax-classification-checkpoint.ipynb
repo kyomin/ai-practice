{
 "cells": [
  {
   "cell_type": "code",
   "execution_count": 11,
   "metadata": {},
   "outputs": [],
   "source": [
    "import tensorflow.compat.v1 as tf\n",
    "tf.disable_v2_behavior()"
   ]
  },
  {
   "cell_type": "code",
   "execution_count": 12,
   "metadata": {},
   "outputs": [],
   "source": [
    "\"\"\"\n",
    "    Training Data를 정의한다.\n",
    "    바이너리 데이터가 아닌, A, B, C의 결과를 가진다.(3개의 클래스를 가진다)\n",
    "\"\"\"\n",
    "x_data = [[1, 2, 1, 1], [2, 1, 3, 2], [3, 1, 3, 4], [4, 1, 5, 5], [1, 7, 5, 5], [1, 2, 5, 6], [1, 6, 6, 6], [1, 7, 7, 7]]\n",
    "y_data = [[0, 0, 1], [0, 0, 1], [0, 0, 1], [0, 1, 0], [0, 1, 0], [0, 1, 0], [1, 0, 0], [1, 0, 0]]"
   ]
  },
  {
   "cell_type": "code",
   "execution_count": 13,
   "metadata": {},
   "outputs": [],
   "source": [
    "X = tf.placeholder(\"float\", [None, 4])\n",
    "Y = tf.placeholder(\"float\", [None, 3])\n",
    "nb_classes = 3  # class의 갯수"
   ]
  },
  {
   "cell_type": "code",
   "execution_count": 14,
   "metadata": {},
   "outputs": [],
   "source": [
    "\"\"\"\n",
    "    W의 경우 4개의 x 데이터가 들어와서 3개의 클래스 결과로 출력된다.\n",
    "\"\"\"\n",
    "W = tf.Variable(tf.random_normal([4, nb_classes]), name='weight')\n",
    "b = tf.Variable(tf.random_normal([nb_classes]), name='bias')"
   ]
  },
  {
   "cell_type": "code",
   "execution_count": 15,
   "metadata": {},
   "outputs": [],
   "source": [
    "\"\"\"\n",
    "    tf.nn.softmax는 softmax 알고리즘을 동작시킨다.\n",
    "\"\"\"\n",
    "hypothesis = tf.nn.softmax(tf.matmul(X, W) + b)"
   ]
  },
  {
   "cell_type": "code",
   "execution_count": 16,
   "metadata": {},
   "outputs": [],
   "source": [
    "# Cross entropy cost/loss\n",
    "cost = tf.reduce_mean(-tf.reduce_sum(Y*tf.log(hypothesis), axis=1))\n",
    "optimizer = tf.train.GradientDescentOptimizer(learning_rate=0.1).minimize(cost)"
   ]
  },
  {
   "cell_type": "code",
   "execution_count": 21,
   "metadata": {},
   "outputs": [
    {
     "name": "stdout",
     "output_type": "stream",
     "text": [
      "0 3.8147779\n",
      "200 0.53892994\n",
      "400 0.41989756\n",
      "600 0.32144538\n",
      "800 0.24714556\n",
      "1000 0.22231346\n",
      "1200 0.20218188\n",
      "1400 0.18533072\n",
      "1600 0.17100807\n",
      "1800 0.15868539\n",
      "2000 0.14797354\n",
      "[[2.0189291e-06 8.1933680e-04 9.9917859e-01]\n",
      " [2.3440863e-03 8.0585256e-02 9.1707069e-01]\n",
      " [5.0084331e-08 1.5684895e-01 8.4315103e-01]\n",
      " [1.9773915e-06 8.5537291e-01 1.4462514e-01]\n",
      " [2.4063337e-01 7.4762601e-01 1.1740677e-02]\n",
      " [1.2610213e-01 8.7389344e-01 4.3291211e-06]\n",
      " [7.6575434e-01 2.3423132e-01 1.4314900e-05]\n",
      " [9.2586589e-01 7.4133821e-02 2.0030508e-07]] [2 2 2 1 1 1 0 0]\n"
     ]
    }
   ],
   "source": [
    "# Launch graph\n",
    "with tf.Session() as sess:\n",
    "    sess.run(tf.global_variables_initializer())\n",
    "    \n",
    "    for step in range(2001):\n",
    "        sess.run(optimizer, feed_dict={X: x_data, Y: y_data})\n",
    "        \n",
    "        if(step%200==0):\n",
    "            print(step, sess.run(cost, feed_dict={X: x_data, Y: y_data}))\n",
    "    \n",
    "    all = sess.run(hypothesis, feed_dict={X: x_data})\n",
    "    print(all, sess.run(tf.arg_max(all, 1)))"
   ]
  },
  {
   "cell_type": "code",
   "execution_count": null,
   "metadata": {},
   "outputs": [],
   "source": []
  }
 ],
 "metadata": {
  "kernelspec": {
   "display_name": "Python 3",
   "language": "python",
   "name": "python3"
  },
  "language_info": {
   "codemirror_mode": {
    "name": "ipython",
    "version": 3
   },
   "file_extension": ".py",
   "mimetype": "text/x-python",
   "name": "python",
   "nbconvert_exporter": "python",
   "pygments_lexer": "ipython3",
   "version": "3.7.4"
  }
 },
 "nbformat": 4,
 "nbformat_minor": 4
}
