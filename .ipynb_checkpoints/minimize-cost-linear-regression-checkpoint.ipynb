{
 "cells": [
  {
   "cell_type": "code",
   "execution_count": 21,
   "metadata": {},
   "outputs": [],
   "source": [
    "import tensorflow.compat.v1 as tf\n",
    "tf.disable_v2_behavior()"
   ]
  },
  {
   "cell_type": "code",
   "execution_count": 22,
   "metadata": {},
   "outputs": [],
   "source": [
    "# make simple training data\n",
    "x_data = [1, 2, 3]\n",
    "y_data = [1, 2, 3]"
   ]
  },
  {
   "cell_type": "code",
   "execution_count": 23,
   "metadata": {},
   "outputs": [],
   "source": [
    "W = tf.Variable(tf.random.normal([1]), name='weight')\n",
    "\n",
    "# using placeholder\n",
    "X = tf.placeholder(tf.float32)\n",
    "Y = tf.placeholder(tf.float32)"
   ]
  },
  {
   "cell_type": "code",
   "execution_count": 26,
   "metadata": {},
   "outputs": [],
   "source": [
    "# our hypothesis for linear model X*W\n",
    "hypothesis = X*W"
   ]
  },
  {
   "cell_type": "code",
   "execution_count": 28,
   "metadata": {},
   "outputs": [],
   "source": [
    "# cost / loss function\n",
    "cost = tf.reduce_sum(tf.square(hypothesis - Y))"
   ]
  },
  {
   "cell_type": "code",
   "execution_count": 29,
   "metadata": {},
   "outputs": [],
   "source": [
    "\"\"\"\n",
    "    Minimizd: Gradient Descent using derivative\n",
    "    => W -= learning_rate * derivative\n",
    "\"\"\"\n",
    "learning_rate = 0.1\n",
    "gradient = tf.reduce_mean((W*X - Y)*X)\n",
    "descent = W - learning_rate * gradient\n",
    "update = W.assign(descent)"
   ]
  },
  {
   "cell_type": "code",
   "execution_count": 30,
   "metadata": {},
   "outputs": [],
   "source": [
    "# launch the graph in a session\n",
    "sess = tf.Session()"
   ]
  },
  {
   "cell_type": "code",
   "execution_count": 31,
   "metadata": {},
   "outputs": [],
   "source": [
    "sess.run(tf.global_variables_initializer())"
   ]
  },
  {
   "cell_type": "code",
   "execution_count": 32,
   "metadata": {},
   "outputs": [
    {
     "name": "stdout",
     "output_type": "stream",
     "text": [
      "0 63.71555 3.1333332\n",
      "1 18.123537 2.1377778\n",
      "2 5.15514 1.6068149\n",
      "3 1.4663512 1.3236346\n",
      "4 0.4170957 1.1726052\n",
      "5 0.11864039 1.092056\n",
      "6 0.033746645 1.0490966\n",
      "7 0.00959901 1.0261848\n",
      "8 0.0027304045 1.0139652\n",
      "9 0.0007766286 1.0074481\n",
      "10 0.00022090746 1.0039723\n",
      "11 6.283778e-05 1.0021186\n",
      "12 1.787235e-05 1.0011299\n",
      "13 5.0833933e-06 1.0006026\n",
      "14 1.4460657e-06 1.0003214\n",
      "15 4.1140163e-07 1.0001714\n",
      "16 1.1697587e-07 1.0000914\n",
      "17 3.331577e-08 1.0000488\n",
      "18 9.454993e-09 1.000026\n",
      "19 2.6770977e-09 1.0000138\n",
      "20 7.6477136e-10 1.0000074\n"
     ]
    }
   ],
   "source": [
    "for step in range(21):\n",
    "    sess.run(update, feed_dict={X: x_data, Y:y_data})\n",
    "    print(step, sess.run(cost, feed_dict={X: x_data, Y: y_data}), sess.run(W))"
   ]
  }
 ],
 "metadata": {
  "kernelspec": {
   "display_name": "Python 3",
   "language": "python",
   "name": "python3"
  },
  "language_info": {
   "codemirror_mode": {
    "name": "ipython",
    "version": 3
   },
   "file_extension": ".py",
   "mimetype": "text/x-python",
   "name": "python",
   "nbconvert_exporter": "python",
   "pygments_lexer": "ipython3",
   "version": "3.7.4"
  }
 },
 "nbformat": 4,
 "nbformat_minor": 4
}
