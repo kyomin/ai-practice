{
 "cells": [
  {
   "cell_type": "code",
   "execution_count": 12,
   "metadata": {},
   "outputs": [],
   "source": [
    "import tensorflow.compat.v1 as tf\n",
    "tf.disable_v2_behavior()"
   ]
  },
  {
   "cell_type": "code",
   "execution_count": 13,
   "metadata": {},
   "outputs": [],
   "source": [
    "\"\"\"\n",
    "    Training Data를 정의한다.\n",
    "    바이너리 Classification이므로 y의 값은 0 또는 1을 가진다.\n",
    "\"\"\"\n",
    "x_data = [[1, 2], [2, 3], [3, 1], [4, 3], [5, 3], [6, 2]]\n",
    "y_data = [[0], [0], [0], [1], [1], [1]] "
   ]
  },
  {
   "cell_type": "code",
   "execution_count": 14,
   "metadata": {},
   "outputs": [],
   "source": [
    "# placeholders for a tensor that will be always fed.\n",
    "# 가장 안 쪽의 데이터는 2와 1로 정해졌지만, 인스턴스의 개수는 N개이므로 None으로 지정한다.\n",
    "X = tf.placeholder(tf.float32, shape=[None, 2])\n",
    "Y = tf.placeholder(tf.float32, shape=[None, 1])"
   ]
  },
  {
   "cell_type": "code",
   "execution_count": 15,
   "metadata": {},
   "outputs": [],
   "source": [
    "W = tf.Variable(tf.random_normal([2, 1]), name='weight')\n",
    "b = tf.Variable(tf.random_normal([1]), name='bias')"
   ]
  },
  {
   "cell_type": "code",
   "execution_count": 16,
   "metadata": {},
   "outputs": [],
   "source": [
    "# Hypothesis using sigmoid : tf.div(1., 1. + tf.exp(tf.matmul(X, W) + b))\n",
    "hypothesis = tf.sigmoid(tf.matmul(X, W) + b)"
   ]
  },
  {
   "cell_type": "code",
   "execution_count": 17,
   "metadata": {},
   "outputs": [],
   "source": [
    "# cost / loss function\n",
    "cost = -tf.reduce_mean(Y*tf.log(hypothesis) + (1-Y)*tf.log(1-hypothesis))"
   ]
  },
  {
   "cell_type": "code",
   "execution_count": 18,
   "metadata": {},
   "outputs": [],
   "source": [
    "train = tf.train.GradientDescentOptimizer(learning_rate=0.01).minimize(cost)"
   ]
  },
  {
   "cell_type": "code",
   "execution_count": 19,
   "metadata": {},
   "outputs": [],
   "source": [
    "# Accuracy computation\n",
    "# True if hypothesis > 0.5 else false\n",
    "# 즉, 간단히 0.5보다 크면 1과 같이 쳐서 true라 판단한다.\n",
    "predicted = tf.cast(hypothesis > 0.5, dtype=tf.float32)\n",
    "accuracy = tf.reduce_mean(tf.cast(tf.equal(predicted, Y), dtype=tf.float32))"
   ]
  },
  {
   "cell_type": "code",
   "execution_count": 22,
   "metadata": {},
   "outputs": [
    {
     "name": "stdout",
     "output_type": "stream",
     "text": [
      "0 2.7801142\n",
      "200 0.771517\n",
      "400 0.5964569\n",
      "600 0.5214273\n",
      "800 0.48167583\n",
      "1000 0.4555678\n",
      "1200 0.43555823\n",
      "1400 0.41868827\n",
      "1600 0.40367055\n",
      "1800 0.38989544\n",
      "2000 0.37705204\n",
      "2200 0.36496976\n",
      "2400 0.3535466\n",
      "2600 0.3427162\n",
      "2800 0.33243054\n",
      "3000 0.32265192\n",
      "3200 0.31334847\n",
      "3400 0.3044921\n",
      "3600 0.29605675\n",
      "3800 0.2880185\n",
      "4000 0.28035483\n",
      "4200 0.27304453\n",
      "4400 0.26606765\n",
      "4600 0.25940523\n",
      "4800 0.2530395\n",
      "5000 0.24695383\n",
      "5200 0.24113232\n",
      "5400 0.23556013\n",
      "5600 0.23022346\n",
      "5800 0.22510915\n",
      "6000 0.22020501\n",
      "6200 0.21549958\n",
      "6400 0.2109819\n",
      "6600 0.20664208\n",
      "6800 0.20247066\n",
      "7000 0.19845851\n",
      "7200 0.19459748\n",
      "7400 0.19087976\n",
      "7600 0.18729794\n",
      "7800 0.1838452\n",
      "8000 0.180515\n",
      "8200 0.17730136\n",
      "8400 0.1741985\n",
      "8600 0.17120111\n",
      "8800 0.1683041\n",
      "9000 0.16550277\n",
      "9200 0.16279261\n",
      "9400 0.16016941\n",
      "9600 0.15762924\n",
      "9800 0.1551683\n",
      "10000 0.15278305\n",
      "\n",
      "Hypothesis:  [[0.03213546]\n",
      " [0.16069612]\n",
      " [0.3114734 ]\n",
      " [0.7783809 ]\n",
      " [0.9376675 ]\n",
      " [0.9795308 ]] \n",
      "Correct (Y):  [[0.]\n",
      " [0.]\n",
      " [0.]\n",
      " [1.]\n",
      " [1.]\n",
      " [1.]] \n",
      "Accuracy:  1.0\n"
     ]
    }
   ],
   "source": [
    "# Launch graph\n",
    "with tf.Session() as sess:\n",
    "    # Initialize Tensorflow variables\n",
    "    sess.run(tf.global_variables_initializer())\n",
    "    \n",
    "    for step in range(10001):\n",
    "        cost_val, tmp = sess.run([cost, train], feed_dict={X: x_data, Y: y_data})\n",
    "        if step%200 == 0:\n",
    "            print(step, cost_val)\n",
    "            \n",
    "    # Accuracy report\n",
    "    h, c, a = sess.run([hypothesis, predicted, accuracy], feed_dict={X: x_data, Y: y_data})\n",
    "    \n",
    "    print(\"\\nHypothesis: \", h, \"\\nCorrect (Y): \", c, \"\\nAccuracy: \", a)"
   ]
  },
  {
   "cell_type": "code",
   "execution_count": null,
   "metadata": {},
   "outputs": [],
   "source": []
  }
 ],
 "metadata": {
  "kernelspec": {
   "display_name": "Python 3",
   "language": "python",
   "name": "python3"
  },
  "language_info": {
   "codemirror_mode": {
    "name": "ipython",
    "version": 3
   },
   "file_extension": ".py",
   "mimetype": "text/x-python",
   "name": "python",
   "nbconvert_exporter": "python",
   "pygments_lexer": "ipython3",
   "version": "3.7.4"
  }
 },
 "nbformat": 4,
 "nbformat_minor": 4
}
